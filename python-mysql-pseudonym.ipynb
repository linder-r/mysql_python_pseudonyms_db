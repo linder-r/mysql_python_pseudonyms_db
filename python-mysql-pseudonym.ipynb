{
 "cells": [
  {
   "cell_type": "markdown",
   "metadata": {},
   "source": [
    "# Python MySQL connection"
   ]
  },
  {
   "cell_type": "markdown",
   "metadata": {},
   "source": [
    "### Install module"
   ]
  },
  {
   "cell_type": "code",
   "execution_count": 1,
   "metadata": {},
   "outputs": [],
   "source": [
    "# Install mysql-connector-python, if not already installed\n",
    "# !pip install mysql-connector-python"
   ]
  },
  {
   "cell_type": "code",
   "execution_count": 2,
   "metadata": {},
   "outputs": [],
   "source": [
    "# Import the mysql.connector library/module\n",
    "import mysql.connector"
   ]
  },
  {
   "cell_type": "markdown",
   "metadata": {},
   "source": [
    "### Create connection to MySQL server"
   ]
  },
  {
   "cell_type": "code",
   "execution_count": 3,
   "metadata": {},
   "outputs": [],
   "source": [
    "# Create the connection object\n",
    "mydb = mysql.connector.connect(\n",
    "    host=\"localhost\",\n",
    "    user=\"admin1\",\n",
    "    password=\"?????????\",\n",
    ")"
   ]
  },
  {
   "cell_type": "code",
   "execution_count": 4,
   "metadata": {},
   "outputs": [],
   "source": [
    "# Create a cursor object\n",
    "cursor = mydb.cursor()"
   ]
  },
  {
   "cell_type": "markdown",
   "metadata": {},
   "source": [
    "### Create database pseudonym_db"
   ]
  },
  {
   "cell_type": "code",
   "execution_count": 5,
   "metadata": {},
   "outputs": [
    {
     "name": "stdout",
     "output_type": "stream",
     "text": [
      "Database created successfully...\n"
     ]
    }
   ],
   "source": [
    "# Drop database if it already exists\n",
    "cursor.execute(\"DROP DATABASE IF EXISTS pseudonym_db\")\n",
    "\n",
    "# Create database\n",
    "cursor.execute(\"CREATE DATABASE pseudonym_db\")\n",
    "\n",
    "# Use database\n",
    "cursor.execute(\"USE pseudonym_db\")\n",
    "\n",
    "# Inform user that database was created successfully\n",
    "print(\"Database created successfully...\")"
   ]
  },
  {
   "cell_type": "markdown",
   "metadata": {},
   "source": [
    "### Create tables 'categories', 'names', 'pseudonyms' and 'relationship'"
   ]
  },
  {
   "cell_type": "code",
   "execution_count": 6,
   "metadata": {},
   "outputs": [
    {
     "name": "stdout",
     "output_type": "stream",
     "text": [
      "Table 'categories' created successfully...\n"
     ]
    }
   ],
   "source": [
    "# SQL statement to Drop table categories if it already exists\n",
    "drop_table_categories = \"\"\" DROP TABLE IF EXISTS categories; \"\"\"\n",
    "\n",
    "# SQL statement to create table categories\n",
    "create_table_categories = \"\"\" CREATE TABLE categories (\n",
    "  category_id int NOT NULL PRIMARY KEY,\n",
    "  category text\n",
    "); \"\"\"\n",
    "\n",
    "# Execute the DROP TABLE statement\n",
    "cursor.execute(drop_table_categories)\n",
    "\n",
    "# Execute the CREATE TABLE statement\n",
    "cursor.execute(create_table_categories)\n",
    "\n",
    "# Commit the changes\n",
    "mydb.commit()\n",
    "\n",
    "# Inform user that table was created successfully\n",
    "print(\"Table 'categories' created successfully...\")"
   ]
  },
  {
   "cell_type": "code",
   "execution_count": 7,
   "metadata": {},
   "outputs": [
    {
     "name": "stdout",
     "output_type": "stream",
     "text": [
      "Table 'names' created successfully...\n"
     ]
    }
   ],
   "source": [
    "# SQL statement to drop table real_names if it already exists\n",
    "drop_table_real_names = \"\"\" DROP TABLE IF EXISTS names; \"\"\"\n",
    "\n",
    "# SQL statement to create table real_names\n",
    "create_table_real_names = \"\"\" CREATE TABLE names (\n",
    "  name_id int NOT NULL PRIMARY KEY,\n",
    "  name text,\n",
    "  date_of_birth int DEFAULT NULL\n",
    "); \"\"\"\n",
    "\n",
    "# Execute the DROP TABLE statement\n",
    "cursor.execute(drop_table_real_names)\n",
    "\n",
    "# Execute the CREATE TABLE statement\n",
    "cursor.execute(create_table_real_names)\n",
    "\n",
    "# Commit the changes\n",
    "mydb.commit()\n",
    "\n",
    "# Inform user that table was created successfully\n",
    "print(\"Table 'names' created successfully...\")"
   ]
  },
  {
   "cell_type": "code",
   "execution_count": 8,
   "metadata": {},
   "outputs": [
    {
     "name": "stdout",
     "output_type": "stream",
     "text": [
      "Table 'pseudonyms' created successfully...\n"
     ]
    }
   ],
   "source": [
    "# SQL statement to drop table pseudonyms if it already exists\n",
    "drop_table_pseudonyms = \"\"\" DROP TABLE IF EXISTS pseudonyms; \"\"\"\n",
    "\n",
    "# SQL statement to create table pseudonyms\n",
    "create_table_pseudonyms = \"\"\" CREATE TABLE pseudonyms (\n",
    "  pseudonym_id int NOT NULL PRIMARY KEY,\n",
    "  pseudonym text\n",
    "); \"\"\"\n",
    "\n",
    "# Execute the DROP TABLE statement\n",
    "cursor.execute(drop_table_pseudonyms)\n",
    "\n",
    "# Execute the CREATE TABLE statement\n",
    "cursor.execute(create_table_pseudonyms)\n",
    "\n",
    "# Commit the changes\n",
    "mydb.commit()\n",
    "\n",
    "# Inform user that table was created successfully\n",
    "print(\"Table 'pseudonyms' created successfully...\")"
   ]
  },
  {
   "cell_type": "code",
   "execution_count": 9,
   "metadata": {},
   "outputs": [
    {
     "name": "stdout",
     "output_type": "stream",
     "text": [
      "Table 'relationship' created successfully...\n"
     ]
    }
   ],
   "source": [
    "# SQL statement to drop table relationship  if it already exists\n",
    "drop_table_relationship = \"\"\" DROP TABLE IF EXISTS relationship; \"\"\"\n",
    "\n",
    "# SQL statement to create table relationship\n",
    "create_table_relationship = \"\"\" CREATE TABLE relationship (\n",
    "  relationship_id int AUTO_INCREMENT PRIMARY KEY,\n",
    "  name_id int NOT NULL,\n",
    "  pseudonym_id int NOT NULL,\n",
    "  category_id int NOT NULL,\n",
    "  FOREIGN KEY (name_id) REFERENCES names(name_id),\n",
    "  FOREIGN KEY (pseudonym_id) REFERENCES pseudonyms(pseudonym_id),\n",
    "  FOREIGN KEY (category_id) REFERENCES categories(category_id)\n",
    "); \"\"\"\n",
    "\n",
    "# Execute the DROP TABLE statement\n",
    "cursor.execute(drop_table_relationship)\n",
    "\n",
    "# Execute the CREATE TABLE statement\n",
    "cursor.execute(create_table_relationship)\n",
    "\n",
    "# Commit the changes\n",
    "mydb.commit()\n",
    "\n",
    "# Inform user that table was created successfully\n",
    "print(\"Table 'relationship' created successfully...\")"
   ]
  },
  {
   "cell_type": "markdown",
   "metadata": {},
   "source": [
    "### Insert data into the tables"
   ]
  },
  {
   "cell_type": "code",
   "execution_count": 10,
   "metadata": {},
   "outputs": [
    {
     "name": "stdout",
     "output_type": "stream",
     "text": [
      "Data inserted successfully into table 'categories'...\n"
     ]
    }
   ],
   "source": [
    "# SQL statement to insert data into table categories\n",
    "insert_into_table_categories = \"\"\" INSERT INTO categories (category_id, category) VALUES \n",
    "(1,'Architecture'),\n",
    "(2,'Espionage '),\n",
    "(3,'Literature'),\n",
    "(4,'Medicine'),\n",
    "(5,'Film'),\n",
    "(6,'Music'),\n",
    "(7,'Painting'),\n",
    "(8,'Philosophy'),\n",
    "(9,'Politics'),\n",
    "(10,'Statistics'); \"\"\"\n",
    "\n",
    "# Execute the INSERT INTO statement to insert data into table categories\n",
    "cursor.execute(insert_into_table_categories)\n",
    "\n",
    "# Commit the changes\n",
    "mydb.commit()\n",
    "\n",
    "# Inform user that data was inserted successfully\n",
    "print(\"Data inserted successfully into table 'categories'...\")"
   ]
  },
  {
   "cell_type": "code",
   "execution_count": 11,
   "metadata": {},
   "outputs": [
    {
     "name": "stdout",
     "output_type": "stream",
     "text": [
      "Data inserted successfully into table 'names'...\n"
     ]
    }
   ],
   "source": [
    "# SQL statement to insert data into table names\n",
    "insert_into_table_names = \"\"\" INSERT INTO names (name_id, name, date_of_birth) VALUES\n",
    "(25,'Jorge Luis Borges',1899),\n",
    "(12,'Herbert Frahm',1913),\n",
    "(9,'François-Marie Arouet',1694),\n",
    "(14,'Jacopo Robusti',1518),\n",
    "(24,'William Sealy Gosset',1876),\n",
    "(18,'Marie-Henri Beyle',1783),\n",
    "(7,'Erich Kästner',1899),\n",
    "(1,'Alexander Hamilton',1755),\n",
    "(15,'James Madison',1751),\n",
    "(16,'John Jay',1745),\n",
    "(23,'Theophrastus Bombastus von Hohenheim',1493),\n",
    "(20,'Ricardo Eliezer Neftalí Reyes Basoalto',1904),\n",
    "(21,'Samuel Langhorne Clemens',1835),\n",
    "(19,'Norma Jeane Mortenson',1926),\n",
    "(17,'Lew Dawidowitsch Bronstein',1879),\n",
    "(4,'Charles-Édouard Jeanneret',1887),\n",
    "(22,'Søren Kierkegaard',1813),\n",
    "(8,'Farrokh Bulsara',1946),\n",
    "(6,'Emily Brontë',1818),\n",
    "(11,'Giovanni di Niccolò de Luteri',1469),\n",
    "(5,'Charlotte Brontë',1816),\n",
    "(13,'Italo Svevo',1861),\n",
    "(10,'Giacomo Casanova',1725),\n",
    "(3,'Antonio Rodolfo Quinn Oaxaca',1915),\n",
    "(2,'Anne Brontë',1820); \"\"\"\n",
    "\n",
    "# Execute the INSERT INTO statement to insert data into table names\n",
    "cursor.execute(insert_into_table_names)\n",
    "\n",
    "# Commit the changes\n",
    "mydb.commit()\n",
    "\n",
    "# Inform user that data was inserted successfully\n",
    "print(\"Data inserted successfully into table 'names'...\")"
   ]
  },
  {
   "cell_type": "code",
   "execution_count": 12,
   "metadata": {},
   "outputs": [
    {
     "name": "stdout",
     "output_type": "stream",
     "text": [
      "Data inserted successfully into table 'pseudonyms'...\n"
     ]
    }
   ],
   "source": [
    "# SQL statement to insert data into table pseudonyms\n",
    "insert_into_table_pseudonyms = \"\"\" INSERT INTO pseudonyms (pseudonym_id, pseudonym) VALUES\n",
    "(27,'H. Bustos Domecq'),\n",
    "(26,'Willy Brandt'),\n",
    "(25,'Voltaire'),\n",
    "(24,'Tintoretto'),\n",
    "(23,'Student'),\n",
    "(22,'Stendahl'),\n",
    "(21,'Robert Neuner'),\n",
    "(20,'Publius'),\n",
    "(19,'Peter Flint'),\n",
    "(18,'Paracelsus'),\n",
    "(17,'Pablo Neruda'),\n",
    "(16,'Melchior Kurtz'),\n",
    "(15,'Mark Twain'),\n",
    "(14,'Marilyn Monroe'),\n",
    "(13,'Leo Trotzki'),\n",
    "(12,'Le Corbusier'),\n",
    "(11,'Johannes de Silentio'),\n",
    "(10,'Freddie Mercury'),\n",
    "(9,'Ellis Bell'),\n",
    "(8,'Dosso Dossi'),\n",
    "(7,'Currer Bell'),\n",
    "(6,'Constantin Constantius'),\n",
    "(5,'Berthold Bürger'),\n",
    "(4,'Aron Hector Schmitz'),\n",
    "(3,'Antonio Pratolini'),\n",
    "(2,'Anthony Quinn'),\n",
    "(1,'Acton Bell'); \"\"\"\n",
    "\n",
    "# Execute the INSERT INTO statement to insert data into table pseudonyms\n",
    "cursor.execute(insert_into_table_pseudonyms)\n",
    "\n",
    "# Commit the changes\n",
    "mydb.commit()\n",
    "\n",
    "# Inform user that data was inserted successfully\n",
    "print(\"Data inserted successfully into table 'pseudonyms'...\")"
   ]
  },
  {
   "cell_type": "code",
   "execution_count": 13,
   "metadata": {},
   "outputs": [
    {
     "name": "stdout",
     "output_type": "stream",
     "text": [
      "Data inserted successfully into table 'relationship'...\n"
     ]
    }
   ],
   "source": [
    "# SQL statement to insert data into table relationship\n",
    "insert_into_table_pseudonyms = \"\"\" INSERT INTO relationship (pseudonym_id, name_id, category_id) VALUES\n",
    "(27,25,3),\n",
    "(26,12,9),\n",
    "(25,9,8),\n",
    "(24,14,7),\n",
    "(23,24,10),\n",
    "(22,18,3),\n",
    "(21,7,3),\n",
    "(20,1,9),\n",
    "(20,15,9),\n",
    "(20,16,9),\n",
    "(19,7,3),\n",
    "(18,23,4),\n",
    "(17,20,3),\n",
    "(16,7,3),\n",
    "(15,21,3),\n",
    "(14,19,5),\n",
    "(13,17,9),\n",
    "(12,4,1),\n",
    "(11,22,8),\n",
    "(10,8,6),\n",
    "(9,6,3),\n",
    "(8,11,7),\n",
    "(7,5,3),\n",
    "(6,22,8),\n",
    "(5,7,3),\n",
    "(4,13,3),\n",
    "(3,10,2),\n",
    "(2,3,5),\n",
    "(1,2,3); \"\"\"\n",
    "\n",
    "# Execute the INSERT INTO statement to insert data into table pseudonyms\n",
    "cursor.execute(insert_into_table_pseudonyms)\n",
    "\n",
    "# Commit the changes\n",
    "mydb.commit()\n",
    "\n",
    "# Inform user that data was inserted successfully\n",
    "print(\"Data inserted successfully into table 'relationship'...\")"
   ]
  },
  {
   "cell_type": "markdown",
   "metadata": {},
   "source": [
    "### Query the pseudonyms and the corresponding official names"
   ]
  },
  {
   "cell_type": "code",
   "execution_count": 14,
   "metadata": {},
   "outputs": [
    {
     "name": "stdout",
     "output_type": "stream",
     "text": [
      "Here are the pseudonyms and the corresponding names:\n",
      "----------------------------\n",
      "Column names:\n",
      "----------------------------\n",
      "Pseudonym  -->  Name\n",
      "----------------------------\n",
      "Acton Bell  -->  Anne Brontë\n",
      "Anthony Quinn  -->  Antonio Rodolfo Quinn Oaxaca\n",
      "Antonio Pratolini  -->  Giacomo Casanova\n",
      "Aron Hector Schmitz  -->  Italo Svevo\n",
      "Berthold Bürger  -->  Erich Kästner\n",
      "Constantin Constantius  -->  Søren Kierkegaard\n",
      "Currer Bell  -->  Charlotte Brontë\n",
      "Dosso Dossi  -->  Giovanni di Niccolò de Luteri\n",
      "Ellis Bell  -->  Emily Brontë\n",
      "Freddie Mercury  -->  Farrokh Bulsara\n",
      "H. Bustos Domecq  -->  Jorge Luis Borges\n",
      "Johannes de Silentio  -->  Søren Kierkegaard\n",
      "Le Corbusier  -->  Charles-Édouard Jeanneret\n",
      "Leo Trotzki  -->  Lew Dawidowitsch Bronstein\n",
      "Marilyn Monroe  -->  Norma Jeane Mortenson\n",
      "Mark Twain  -->  Samuel Langhorne Clemens\n",
      "Melchior Kurtz  -->  Erich Kästner\n",
      "Pablo Neruda  -->  Ricardo Eliezer Neftalí Reyes Basoalto\n",
      "Paracelsus  -->  Theophrastus Bombastus von Hohenheim\n",
      "Peter Flint  -->  Erich Kästner\n",
      "Publius  -->  Alexander Hamilton\n",
      "Publius  -->  James Madison\n",
      "Publius  -->  John Jay\n",
      "Robert Neuner  -->  Erich Kästner\n",
      "Stendahl  -->  Marie-Henri Beyle\n",
      "Student  -->  William Sealy Gosset\n",
      "Tintoretto  -->  Jacopo Robusti\n",
      "Voltaire  -->  François-Marie Arouet\n",
      "Willy Brandt  -->  Herbert Frahm\n"
     ]
    }
   ],
   "source": [
    "# SQL statement to select the Number of Pseudonyms per Name\n",
    "select_pseudonyms_and_names = \"\"\" SELECT pseudonyms.pseudonym AS 'Pseudonym', names.name AS 'Name' \n",
    "FROM pseudonyms\n",
    "INNER JOIN relationship ON pseudonyms.pseudonym_id = relationship.pseudonym_id\n",
    "INNER JOIN names ON relationship.name_id = names.name_id\n",
    "ORDER BY 1 asc, 2 asc; \"\"\"\n",
    "\n",
    "# Execute the SELECT statement to select the Number of Pseudonyms per Name\n",
    "cursor.execute(select_pseudonyms_and_names)\n",
    "\n",
    "# Fetch all the rows\n",
    "result = cursor.fetchall()\n",
    "\n",
    "# Column names\n",
    "column_names = cursor.column_names\n",
    "\n",
    "# Print the result\n",
    "print(\"Here are the pseudonyms and the corresponding names:\")\n",
    "print(\"----------------------------\")\n",
    "print(\"Column names:\")\n",
    "print(\"----------------------------\")\n",
    "print(column_names[0], ' --> ', column_names[1])\n",
    "print(\"----------------------------\")\n",
    "for row in result:\n",
    "    print(row[0], ' --> ', row[1])"
   ]
  },
  {
   "cell_type": "markdown",
   "metadata": {},
   "source": [
    "### Find the most common categories of pseudonyms"
   ]
  },
  {
   "cell_type": "code",
   "execution_count": 15,
   "metadata": {},
   "outputs": [
    {
     "name": "stdout",
     "output_type": "stream",
     "text": [
      "Here are the most common categories:\n",
      "----------------------------\n",
      "Column names:\n",
      "----------------------------\n",
      "Number of Pseudonyms  -->  Category\n",
      "----------------------------\n",
      "12  -->  Literature\n",
      "5  -->  Politics\n",
      "3  -->  Philosophy\n",
      "2  -->  Film\n",
      "2  -->  Painting\n"
     ]
    }
   ],
   "source": [
    "# SQL statement to find categories of pseudonyms, that have more than one pseudonym\n",
    "select_most_common_category = \"\"\" SELECT COUNT(relationship.category_id) AS 'Number of Pseudonyms', categories.category AS 'Category'\n",
    "FROM relationship\n",
    "INNER JOIN categories ON relationship.category_id = categories.category_id\n",
    "GROUP BY categories.category\n",
    "HAVING COUNT(relationship.category_id) > 1\n",
    "ORDER BY 1 desc;\n",
    "\"\"\"\n",
    "\n",
    "# Execute the SELECT statement to select the Number of Pseudonyms per Name\n",
    "cursor.execute(select_most_common_category)\n",
    "\n",
    "# Fetch all the rows\n",
    "result = cursor.fetchall()\n",
    "\n",
    "# Column names\n",
    "column_names = cursor.column_names\n",
    "\n",
    "# Print the result\n",
    "print(\"Here are the most common categories:\")\n",
    "print(\"----------------------------\")\n",
    "print(\"Column names:\")\n",
    "print(\"----------------------------\")\n",
    "print(column_names[0], ' --> ', column_names[1])\n",
    "print(\"----------------------------\")\n",
    "for row in result:\n",
    "    print(row[0], ' --> ', row[1])\n"
   ]
  },
  {
   "cell_type": "markdown",
   "metadata": {},
   "source": [
    "### Find the number of pseudonyms per name"
   ]
  },
  {
   "cell_type": "code",
   "execution_count": 16,
   "metadata": {},
   "outputs": [
    {
     "name": "stdout",
     "output_type": "stream",
     "text": [
      "Here is the number of pseudonyms per name:\n",
      "----------------------------\n",
      "Column names:\n",
      "----------------------------\n",
      "Number of Pseudonyms  -->  Name\n",
      "----------------------------\n",
      "4  -->  Erich Kästner\n",
      "2  -->  Søren Kierkegaard\n",
      "1  -->  Alexander Hamilton\n",
      "1  -->  Anne Brontë\n",
      "1  -->  Antonio Rodolfo Quinn Oaxaca\n",
      "1  -->  Charles-Édouard Jeanneret\n",
      "1  -->  Charlotte Brontë\n",
      "1  -->  Emily Brontë\n",
      "1  -->  Farrokh Bulsara\n",
      "1  -->  François-Marie Arouet\n",
      "1  -->  Giacomo Casanova\n",
      "1  -->  Giovanni di Niccolò de Luteri\n",
      "1  -->  Herbert Frahm\n",
      "1  -->  Italo Svevo\n",
      "1  -->  Jacopo Robusti\n",
      "1  -->  James Madison\n",
      "1  -->  John Jay\n",
      "1  -->  Jorge Luis Borges\n",
      "1  -->  Lew Dawidowitsch Bronstein\n",
      "1  -->  Marie-Henri Beyle\n",
      "1  -->  Norma Jeane Mortenson\n",
      "1  -->  Ricardo Eliezer Neftalí Reyes Basoalto\n",
      "1  -->  Samuel Langhorne Clemens\n",
      "1  -->  Theophrastus Bombastus von Hohenheim\n",
      "1  -->  William Sealy Gosset\n"
     ]
    }
   ],
   "source": [
    "# SQL statement to select the number of pseudonyms per name\n",
    "select_number_of_pseudonyms_per_name = \"\"\" SELECT COUNT(relationship.name_id) AS 'Number of Pseudonyms', names.name AS 'Name' \n",
    "FROM relationship\n",
    "INNER JOIN names\n",
    "ON relationship.name_id = names.name_id\n",
    "GROUP BY names.name\n",
    "ORDER BY 1 desc, 2 asc; \"\"\"\n",
    "\n",
    "# Execute the SELECT statement to select the Number of Pseudonyms per Name\n",
    "cursor.execute(select_number_of_pseudonyms_per_name)\n",
    "\n",
    "# Fetch all the rows\n",
    "result = cursor.fetchall()\n",
    "\n",
    "# Column names\n",
    "column_names = cursor.column_names\n",
    "\n",
    "# Print the result\n",
    "print(\"Here is the number of pseudonyms per name:\")\n",
    "print(\"----------------------------\")\n",
    "print(\"Column names:\")\n",
    "print(\"----------------------------\")\n",
    "print(column_names[0], ' --> ', column_names[1])\n",
    "print(\"----------------------------\")\n",
    "for row in result:\n",
    "    print(row[0], ' --> ', row[1])"
   ]
  },
  {
   "cell_type": "markdown",
   "metadata": {},
   "source": [
    "### Find collective pseudonymy shared by two or more persons "
   ]
  },
  {
   "cell_type": "code",
   "execution_count": 17,
   "metadata": {},
   "outputs": [
    {
     "name": "stdout",
     "output_type": "stream",
     "text": [
      "Here are the collective pseudonyms with the corresponding official names:\n",
      "----------------------------\n",
      "Column names:\n",
      "----------------------------\n",
      "Collective pseudonym  -->  Name\n",
      "----------------------------\n",
      "Publius  -->  Alexander Hamilton\n",
      "Publius  -->  James Madison\n",
      "Publius  -->  John Jay\n"
     ]
    }
   ],
   "source": [
    "# SQL statement to find collective pseudonyms with subquery\n",
    "select_collective_pseudonyms = \"\"\" SELECT pseudonyms.pseudonym AS 'Collective pseudonym', names.name AS 'Name'\n",
    "FROM pseudonyms\n",
    "INNER JOIN relationship ON pseudonyms.pseudonym_id = relationship.pseudonym_id\n",
    "INNER JOIN names ON relationship.name_id = names.name_id\n",
    "WHERE relationship.pseudonym_id IN \n",
    "(SELECT pseudonym_id FROM relationship GROUP BY pseudonym_id HAVING COUNT(pseudonym_id) > 1)\n",
    "; \"\"\"\n",
    "\n",
    "# Execute the SELECT statement to find collective pseudonyms\n",
    "cursor.execute(select_collective_pseudonyms)\n",
    "\n",
    "# Fetch all the rows\n",
    "result = cursor.fetchall()\n",
    "\n",
    "# Column names\n",
    "column_names = cursor.column_names\n",
    "\n",
    "# Print the result\n",
    "print(\"Here are the collective pseudonyms with the corresponding official names:\")\n",
    "print(\"----------------------------\")\n",
    "print(\"Column names:\")\n",
    "print(\"----------------------------\")\n",
    "print(column_names[0], ' --> ', column_names[1])\n",
    "print(\"----------------------------\")\n",
    "for row in result:\n",
    "    print(row[0], ' --> ', row[1])"
   ]
  },
  {
   "cell_type": "markdown",
   "metadata": {},
   "source": [
    "### Find the oldest bearer of a pseudonym"
   ]
  },
  {
   "cell_type": "code",
   "execution_count": 18,
   "metadata": {},
   "outputs": [
    {
     "name": "stdout",
     "output_type": "stream",
     "text": [
      "Here is the oldest bearer of a pseudonym:\n",
      "----------------------------\n",
      "Column names:\n",
      "----------------------------\n",
      "Pseudonym  -->  Name  -->  Date of Birth  -->  Category\n",
      "----------------------------\n",
      "Dosso Dossi  -->  Giovanni di Niccolò de Luteri  -->  1469  -->  Painting\n"
     ]
    }
   ],
   "source": [
    "# SQL statement to find the oldest bearer of a pseudonym\n",
    "select_oldest_bearer = \"\"\" SELECT pseudonyms.pseudonym AS 'Pseudonym', \n",
    "names.name AS 'Name', \n",
    "names.date_of_birth AS 'Date of Birth',\n",
    "categories.category AS 'Category'\n",
    "FROM pseudonyms\n",
    "INNER JOIN relationship ON pseudonyms.pseudonym_id = relationship.pseudonym_id\n",
    "INNER JOIN names ON relationship.name_id = names.name_id\n",
    "INNER JOIN categories ON relationship.category_id = categories.category_id\n",
    "WHERE names.date_of_birth = (SELECT MIN(date_of_birth) FROM names)\n",
    "; \"\"\"\n",
    "\n",
    "# Execute the SELECT statement to find the oldest bearer of a pseudonym\n",
    "cursor.execute(select_oldest_bearer)\n",
    "\n",
    "# Fetch all the rows\n",
    "result = cursor.fetchall()\n",
    "\n",
    "# Column names\n",
    "column_names = cursor.column_names\n",
    "\n",
    "# Print the result\n",
    "print(\"Here is the oldest bearer of a pseudonym:\")\n",
    "print(\"----------------------------\")\n",
    "print(\"Column names:\")\n",
    "print(\"----------------------------\")\n",
    "print(column_names[0], ' --> ', column_names[1], ' --> ', column_names[2], ' --> ', column_names[3])\n",
    "print(\"----------------------------\")\n",
    "for row in result:\n",
    "    print(row[0], ' --> ', row[1], ' --> ', row[2], ' --> ', row[3])"
   ]
  },
  {
   "cell_type": "markdown",
   "metadata": {},
   "source": [
    "### Close cursor and connection"
   ]
  },
  {
   "cell_type": "code",
   "execution_count": 19,
   "metadata": {},
   "outputs": [
    {
     "name": "stdout",
     "output_type": "stream",
     "text": [
      "Connection closed successfully...\n"
     ]
    }
   ],
   "source": [
    "# Close the cursor and connection\n",
    "cursor.close()\n",
    "\n",
    "# Inform user that connection was closed\n",
    "print(\"Connection closed successfully...\")"
   ]
  },
  {
   "cell_type": "code",
   "execution_count": 20,
   "metadata": {},
   "outputs": [
    {
     "name": "stdout",
     "output_type": "stream",
     "text": [
      "Connection closed successfully...\n"
     ]
    }
   ],
   "source": [
    "# Close the connection\n",
    "mydb.close()\n",
    "\n",
    "# Inform user that connection was closed\n",
    "print(\"Connection closed successfully...\")"
   ]
  }
 ],
 "metadata": {
  "kernelspec": {
   "display_name": "Python 3",
   "language": "python",
   "name": "python3"
  },
  "language_info": {
   "codemirror_mode": {
    "name": "ipython",
    "version": 3
   },
   "file_extension": ".py",
   "mimetype": "text/x-python",
   "name": "python",
   "nbconvert_exporter": "python",
   "pygments_lexer": "ipython3",
   "version": "3.12.0"
  }
 },
 "nbformat": 4,
 "nbformat_minor": 2
}
